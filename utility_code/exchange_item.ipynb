{
 "cells": [
  {
   "cell_type": "code",
   "execution_count": 2,
   "metadata": {},
   "outputs": [],
   "source": [
    "import csv\n",
    "import xmltodict"
   ]
  },
  {
   "cell_type": "code",
   "execution_count": 4,
   "metadata": {},
   "outputs": [],
   "source": [
    "dict_item = {\"root\": {}}\n",
    "with open(\"../item/exchange_item.csv\", \"r\") as file:\n",
    "    lines = csv.reader(file)\n",
    "    for line in lines:\n",
    "        dict_item[\"root\"][\"date-\" + line[0].replace(\"/\", \"-\")] = \\\n",
    "        {\n",
    "            \"item_1\": line[1],\n",
    "            \"item_2\": line[2],\n",
    "            \"item_3\": line[3],\n",
    "        }\n",
    "dict_lines = xmltodict.unparse(dict_item, pretty=True)\n",
    "with open(\"../item/exchange_item.xml\", \"w\", encoding=\"utf-8\") as file:\n",
    "    file.write(dict_lines)"
   ]
  },
  {
   "cell_type": "code",
   "execution_count": null,
   "metadata": {},
   "outputs": [],
   "source": []
  }
 ],
 "metadata": {
  "kernelspec": {
   "display_name": "Python 3",
   "language": "python",
   "name": "python3"
  },
  "language_info": {
   "codemirror_mode": {
    "name": "ipython",
    "version": 3
   },
   "file_extension": ".py",
   "mimetype": "text/x-python",
   "name": "python",
   "nbconvert_exporter": "python",
   "pygments_lexer": "ipython3",
   "version": "3.6.5"
  }
 },
 "nbformat": 4,
 "nbformat_minor": 2
}
