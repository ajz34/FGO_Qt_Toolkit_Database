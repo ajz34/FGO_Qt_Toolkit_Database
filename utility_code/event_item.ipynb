{
 "cells": [
  {
   "cell_type": "code",
   "execution_count": 1,
   "metadata": {},
   "outputs": [],
   "source": [
    "import csv\n",
    "import xmltodict"
   ]
  },
  {
   "cell_type": "code",
   "execution_count": 2,
   "metadata": {},
   "outputs": [],
   "source": [
    "# line 4 is item header"
   ]
  },
  {
   "cell_type": "code",
   "execution_count": 3,
   "metadata": {},
   "outputs": [],
   "source": [
    "dict_root = {}\n",
    "with open(\"../item/event_item.csv\", \"r\") as file:\n",
    "    lines = csv.reader(file)\n",
    "    item_list = None  # line 5 of csv file\n",
    "    key = None\n",
    "    for line_id, line in enumerate(lines):\n",
    "        if line_id == 4:\n",
    "            item_list = line\n",
    "        if line_id > 5:\n",
    "            if (line[0][0:5] != \"event\") and (line[0][0:8] != \"infinity\"):\n",
    "                key = line[0]\n",
    "                dict_root[key] = {}\n",
    "                dict_root[key][\"date_init\"] = line[1].replace(\"/\", \"-\")\n",
    "                dict_root[key][\"date_end\"] = line[2].replace(\"/\", \"-\")\n",
    "            else:\n",
    "                dict_root[key][line[0]] = {}\n",
    "                for item_id, item in enumerate(line):\n",
    "                    if (item != \"\") and (item_id != 0):\n",
    "                        dict_root[key][line[0]][item_list[item_id]] = item\n",
    "dict_root = {\"root\": dict_root}\n",
    "with open(\"../item/event_item.xml\", \"w\", encoding=\"utf-8\") as file:\n",
    "    lines = xmltodict.unparse(dict_root, pretty=True)\n",
    "    file.write(lines)"
   ]
  },
  {
   "cell_type": "code",
   "execution_count": null,
   "metadata": {},
   "outputs": [],
   "source": []
  }
 ],
 "metadata": {
  "kernelspec": {
   "display_name": "Python 3",
   "language": "python",
   "name": "python3"
  },
  "language_info": {
   "codemirror_mode": {
    "name": "ipython",
    "version": 3
   },
   "file_extension": ".py",
   "mimetype": "text/x-python",
   "name": "python",
   "nbconvert_exporter": "python",
   "pygments_lexer": "ipython3",
   "version": "3.6.5"
  }
 },
 "nbformat": 4,
 "nbformat_minor": 2
}
